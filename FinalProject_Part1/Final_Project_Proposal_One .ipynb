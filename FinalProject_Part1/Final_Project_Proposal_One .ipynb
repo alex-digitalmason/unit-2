{
 "cells": [
  {
   "cell_type": "markdown",
   "metadata": {},
   "source": [
    "# Problem Statement:"
   ]
  },
  {
   "cell_type": "markdown",
   "metadata": {},
   "source": [
    "Does the category that the project and challenge are launched in affect engagement? In effect: do certain categories garner more attention and engagement than others?"
   ]
  },
  {
   "cell_type": "markdown",
   "metadata": {},
   "source": [
    "### Hypothesis/assumptions"
   ]
  },
  {
   "cell_type": "markdown",
   "metadata": {},
   "source": [
    "- Categories involving ground transportation will have the highest amount of overall engagement\n",
    "- Categories involving ground transportation wil have the highest amount of average challenge entries\n",
    "- Categories involving adaptive mobility will have the lowest amount of overall engagement"
   ]
  },
  {
   "cell_type": "markdown",
   "metadata": {},
   "source": [
    "### Goals and success metrics"
   ]
  },
  {
   "cell_type": "markdown",
   "metadata": {},
   "source": [
    "- Define which category has the highest amount of overall engagement\n",
    "- Define which category has the lowest amount of overall engagement\n",
    "- Define which category has the highest average amount of challenge entries\n",
    "- Visualize a correlation between categories and engagement\n",
    "- Visualize the type of engagement seen within each category"
   ]
  },
  {
   "cell_type": "markdown",
   "metadata": {},
   "source": [
    "### Risks or limitations"
   ]
  },
  {
   "cell_type": "markdown",
   "metadata": {},
   "source": [
    "- It will be important to only pull the challenges and project from the last 2.5 years to get relevant data, prior to that time period all project were focused solely on cars \n",
    "- The community members who joined prior to 3 years ago are more likely to participate in ground transportation category projects since they joined when projects were solely focused on cars and car projects live within the ground transportation category."
   ]
  },
  {
   "cell_type": "markdown",
   "metadata": {},
   "source": [
    "### Usable Datasets"
   ]
  },
  {
   "cell_type": "markdown",
   "metadata": {},
   "source": []
  },
  {
   "cell_type": "markdown",
   "metadata": {},
   "source": [
    "- project and challenge data within each category\n",
    "- community member event data specific to projects and challenges"
   ]
  },
  {
   "cell_type": "code",
   "execution_count": null,
   "metadata": {},
   "outputs": [],
   "source": []
  }
 ],
 "metadata": {
  "kernelspec": {
   "display_name": "Python 3",
   "language": "python",
   "name": "python3"
  },
  "language_info": {
   "codemirror_mode": {
    "name": "ipython",
    "version": 3
   },
   "file_extension": ".py",
   "mimetype": "text/x-python",
   "name": "python",
   "nbconvert_exporter": "python",
   "pygments_lexer": "ipython3",
   "version": "3.6.5"
  }
 },
 "nbformat": 4,
 "nbformat_minor": 2
}
