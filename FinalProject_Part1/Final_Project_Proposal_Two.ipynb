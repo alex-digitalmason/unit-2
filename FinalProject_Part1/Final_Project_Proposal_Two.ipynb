{
 "cells": [
  {
   "cell_type": "markdown",
   "metadata": {},
   "source": [
    "# Problem Statement:"
   ]
  },
  {
   "cell_type": "markdown",
   "metadata": {},
   "source": [
    "Does higher subject matter expert and community member interaction with challenge participants correlate with higher valid entry counts in challenges?"
   ]
  },
  {
   "cell_type": "markdown",
   "metadata": {},
   "source": [
    "### Hypothesis/assumptions"
   ]
  },
  {
   "cell_type": "markdown",
   "metadata": {},
   "source": [
    "- There may be a slight slant toward co-pilot interaction affecting valid entry counts positively but it will not be enough show correlation"
   ]
  },
  {
   "cell_type": "markdown",
   "metadata": {},
   "source": [
    "### Goals and success metrics"
   ]
  },
  {
   "cell_type": "markdown",
   "metadata": {},
   "source": [
    "- Show the average amount of subject matter expert involvement in challenge\n",
    "- Show the average amount of community manager involvement in challenge\n",
    "- Compare average community engagement with SME and average community manager engagement\n",
    "- Visualize the average number of entries to valid entries in challenges\n",
    "- Compare SME and community management engagement to percentage of valid entries for each challenge"
   ]
  },
  {
   "cell_type": "markdown",
   "metadata": {},
   "source": [
    "### Risks or limitations\n",
    "- Since there is not a sibject matter expert profile marker these names and usernames will have to be pulled manually from internal resources which includes a risk of missing people who should be included\n",
    "- More intensive challenges automatically have fewer valid entries due to the difficulty. This could bias the data."
   ]
  },
  {
   "cell_type": "markdown",
   "metadata": {},
   "source": [
    "### Usable Datasets"
   ]
  },
  {
   "cell_type": "markdown",
   "metadata": {},
   "source": [
    "- Subject matter expert and community manager event data in relation to project and challenge objects\n",
    "- Challenge object level data"
   ]
  }
 ],
 "metadata": {
  "kernelspec": {
   "display_name": "Python 3",
   "language": "python",
   "name": "python3"
  },
  "language_info": {
   "codemirror_mode": {
    "name": "ipython",
    "version": 3
   },
   "file_extension": ".py",
   "mimetype": "text/x-python",
   "name": "python",
   "nbconvert_exporter": "python",
   "pygments_lexer": "ipython3",
   "version": "3.6.5"
  }
 },
 "nbformat": 4,
 "nbformat_minor": 2
}
