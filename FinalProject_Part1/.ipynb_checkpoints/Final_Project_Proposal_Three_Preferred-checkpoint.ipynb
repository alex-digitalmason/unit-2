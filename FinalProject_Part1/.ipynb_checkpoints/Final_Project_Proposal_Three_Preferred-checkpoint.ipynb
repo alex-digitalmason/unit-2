{
 "cells": [
  {
   "cell_type": "markdown",
   "metadata": {},
   "source": [
    "# Problem Statement:"
   ]
  },
  {
   "cell_type": "markdown",
   "metadata": {},
   "source": [
    "Is there higher interest in and more engagement on the platform based on the country the user resides in?"
   ]
  },
  {
   "cell_type": "markdown",
   "metadata": {},
   "source": [
    "### Hypothesis/assumptions"
   ]
  },
  {
   "cell_type": "markdown",
   "metadata": {},
   "source": [
    "- We will see larger numbers of community members and larger numbers of engagement from those community members from low income countries where the challenge awar dollars would go farther."
   ]
  },
  {
   "cell_type": "markdown",
   "metadata": {},
   "source": [
    "### Goals and success metrics"
   ]
  },
  {
   "cell_type": "markdown",
   "metadata": {},
   "source": [
    "- Visualise where the majority of our community members reside\n",
    "- Find what countries are missing from the community\n",
    "- Find the average number of project level actions are taken per user\n",
    "- Find the country with the highest average project levels actions taken per user\n",
    "- Visualize if there is a correlation between country the user resides in and engagement levels\n",
    "- Find the country with the highest average \"quality\" project levels actions taken per user - such as entering a challenge or submitting an idea\n",
    "- Find defintion of \"super user\" as a user who is \"above average\" on number of \"quality\" project level actions\n",
    "- Find the country with the highest number of \"super users\" "
   ]
  },
  {
   "cell_type": "markdown",
   "metadata": {},
   "source": [
    "### Risks or limitations"
   ]
  },
  {
   "cell_type": "markdown",
   "metadata": {},
   "source": [
    "- The definition of a super user based on what the data shows as \"above average\" may not line up with what our internal marketing and community define as a super user.\n",
    "- changes in the platform and platform model in the last 8 years have meant a change in definition of project and challenge which means older data could be depracated."
   ]
  },
  {
   "cell_type": "markdown",
   "metadata": {},
   "source": [
    "### Usable Datasets"
   ]
  },
  {
   "cell_type": "markdown",
   "metadata": {},
   "source": [
    "- Object based dataset containing all content level events and the user profiles they are tied to. \n",
    "     - I cannot provide dataset due to confidentiality"
   ]
  }
 ],
 "metadata": {
  "kernelspec": {
   "display_name": "Python 3",
   "language": "python",
   "name": "python3"
  },
  "language_info": {
   "codemirror_mode": {
    "name": "ipython",
    "version": 3
   },
   "file_extension": ".py",
   "mimetype": "text/x-python",
   "name": "python",
   "nbconvert_exporter": "python",
   "pygments_lexer": "ipython3",
   "version": "3.6.5"
  }
 },
 "nbformat": 4,
 "nbformat_minor": 2
}
